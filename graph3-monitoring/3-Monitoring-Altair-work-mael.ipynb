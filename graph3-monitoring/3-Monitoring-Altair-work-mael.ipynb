{
 "cells": [
  {
   "cell_type": "markdown",
   "metadata": {},
   "source": [
    "## Part 3 - Monitoring roads"
   ]
  },
  {
   "cell_type": "markdown",
   "metadata": {},
   "source": [
    "#### Imports"
   ]
  },
  {
   "cell_type": "code",
   "execution_count": 49,
   "metadata": {
    "ExecuteTime": {
     "end_time": "2019-06-21T12:15:29.222344Z",
     "start_time": "2019-06-21T12:15:29.215611Z"
    }
   },
   "outputs": [],
   "source": [
    "import pandas as pd\n",
    "import numpy as np\n",
    "import folium\n",
    "import sys\n",
    "from IPython.display import display\n",
    "import ipywidgets as widgets"
   ]
  },
  {
   "cell_type": "markdown",
   "metadata": {},
   "source": [
    "### Load data"
   ]
  },
  {
   "cell_type": "markdown",
   "metadata": {},
   "source": [
    "#### Accidents data"
   ]
  },
  {
   "cell_type": "code",
   "execution_count": 50,
   "metadata": {
    "ExecuteTime": {
     "end_time": "2019-06-21T12:15:43.547125Z",
     "start_time": "2019-06-21T12:15:29.709234Z"
    }
   },
   "outputs": [
    {
     "data": {
      "text/html": [
       "<div>\n",
       "<style scoped>\n",
       "    .dataframe tbody tr th:only-of-type {\n",
       "        vertical-align: middle;\n",
       "    }\n",
       "\n",
       "    .dataframe tbody tr th {\n",
       "        vertical-align: top;\n",
       "    }\n",
       "\n",
       "    .dataframe thead th {\n",
       "        text-align: right;\n",
       "    }\n",
       "</style>\n",
       "<table border=\"1\" class=\"dataframe\">\n",
       "  <thead>\n",
       "    <tr style=\"text-align: right;\">\n",
       "      <th></th>\n",
       "      <th>Num_Acc</th>\n",
       "      <th>an</th>\n",
       "      <th>mois</th>\n",
       "      <th>jour</th>\n",
       "      <th>hrmn</th>\n",
       "      <th>lum</th>\n",
       "      <th>agg</th>\n",
       "      <th>atm</th>\n",
       "      <th>col</th>\n",
       "      <th>com</th>\n",
       "      <th>gps</th>\n",
       "      <th>lat</th>\n",
       "      <th>long</th>\n",
       "      <th>dep</th>\n",
       "    </tr>\n",
       "  </thead>\n",
       "  <tbody>\n",
       "    <tr>\n",
       "      <th>0</th>\n",
       "      <td>200500000001</td>\n",
       "      <td>5</td>\n",
       "      <td>1</td>\n",
       "      <td>12</td>\n",
       "      <td>1900</td>\n",
       "      <td>3</td>\n",
       "      <td>2</td>\n",
       "      <td>1.0</td>\n",
       "      <td>3.0</td>\n",
       "      <td>11.0</td>\n",
       "      <td>M</td>\n",
       "      <td>5051500.0</td>\n",
       "      <td>294400</td>\n",
       "      <td>590</td>\n",
       "    </tr>\n",
       "    <tr>\n",
       "      <th>1</th>\n",
       "      <td>200500000002</td>\n",
       "      <td>5</td>\n",
       "      <td>1</td>\n",
       "      <td>21</td>\n",
       "      <td>1600</td>\n",
       "      <td>1</td>\n",
       "      <td>2</td>\n",
       "      <td>1.0</td>\n",
       "      <td>1.0</td>\n",
       "      <td>51.0</td>\n",
       "      <td>M</td>\n",
       "      <td>5053700.0</td>\n",
       "      <td>280200</td>\n",
       "      <td>590</td>\n",
       "    </tr>\n",
       "    <tr>\n",
       "      <th>2</th>\n",
       "      <td>200500000003</td>\n",
       "      <td>5</td>\n",
       "      <td>1</td>\n",
       "      <td>21</td>\n",
       "      <td>1845</td>\n",
       "      <td>3</td>\n",
       "      <td>1</td>\n",
       "      <td>2.0</td>\n",
       "      <td>1.0</td>\n",
       "      <td>51.0</td>\n",
       "      <td>M</td>\n",
       "      <td>5054600.0</td>\n",
       "      <td>280000</td>\n",
       "      <td>590</td>\n",
       "    </tr>\n",
       "    <tr>\n",
       "      <th>3</th>\n",
       "      <td>200500000004</td>\n",
       "      <td>5</td>\n",
       "      <td>1</td>\n",
       "      <td>4</td>\n",
       "      <td>1615</td>\n",
       "      <td>1</td>\n",
       "      <td>1</td>\n",
       "      <td>1.0</td>\n",
       "      <td>5.0</td>\n",
       "      <td>82.0</td>\n",
       "      <td>M</td>\n",
       "      <td>5098700.0</td>\n",
       "      <td>240800</td>\n",
       "      <td>590</td>\n",
       "    </tr>\n",
       "    <tr>\n",
       "      <th>4</th>\n",
       "      <td>200500000005</td>\n",
       "      <td>5</td>\n",
       "      <td>1</td>\n",
       "      <td>10</td>\n",
       "      <td>1945</td>\n",
       "      <td>3</td>\n",
       "      <td>1</td>\n",
       "      <td>3.0</td>\n",
       "      <td>6.0</td>\n",
       "      <td>478.0</td>\n",
       "      <td>M</td>\n",
       "      <td>5096400.0</td>\n",
       "      <td>247500</td>\n",
       "      <td>590</td>\n",
       "    </tr>\n",
       "  </tbody>\n",
       "</table>\n",
       "</div>"
      ],
      "text/plain": [
       "        Num_Acc  an  mois  jour  hrmn  lum  agg  atm  col    com gps  \\\n",
       "0  200500000001   5     1    12  1900    3    2  1.0  3.0   11.0   M   \n",
       "1  200500000002   5     1    21  1600    1    2  1.0  1.0   51.0   M   \n",
       "2  200500000003   5     1    21  1845    3    1  2.0  1.0   51.0   M   \n",
       "3  200500000004   5     1     4  1615    1    1  1.0  5.0   82.0   M   \n",
       "4  200500000005   5     1    10  1945    3    1  3.0  6.0  478.0   M   \n",
       "\n",
       "         lat    long  dep  \n",
       "0  5051500.0  294400  590  \n",
       "1  5053700.0  280200  590  \n",
       "2  5054600.0  280000  590  \n",
       "3  5098700.0  240800  590  \n",
       "4  5096400.0  247500  590  "
      ]
     },
     "execution_count": 50,
     "metadata": {},
     "output_type": "execute_result"
    }
   ],
   "source": [
    "def load_dataset():  \n",
    "    veh_cols = ['Num_Acc', 'num_veh', 'senc', 'catv', 'obs', 'obsm', 'choc']\n",
    "    usa_cols = ['Num_Acc', 'num_veh', 'place', 'catu', 'grav', 'sexe', 'an_nais', 'trajet', 'secu', 'locp']\n",
    "    lie_cols = ['Num_Acc', 'catr', 'circ', 'nbv', 'vosp', 'prof', 'plan', 'lartpc', 'larrout', 'surf', 'infra', 'situ']\n",
    "    car_cols = ['Num_Acc', 'jour', 'mois', 'an', 'hrmn', 'lum', 'dep', 'com', 'agg', 'atm', 'col', 'gps', 'lat', 'long']\n",
    "\n",
    "    veh = pd.read_csv('../Accidents/vehicules_2005.csv', usecols=veh_cols)\n",
    "    usa = pd.read_csv('../Accidents/usagers_2005.csv', usecols=usa_cols)\n",
    "    lie = pd.read_csv('../Accidents/lieux_2005.csv', usecols=lie_cols)\n",
    "    car = pd.read_csv('../Accidents/caracteristiques_2005.csv', encoding='latin-1', usecols=car_cols)\n",
    "\n",
    "    for i in range(2006, 2018, 1):\n",
    "        lie = pd.concat([lie, pd.read_csv('../Accidents/lieux_' + str(i) + '.csv', usecols=lie_cols)], axis=0)\n",
    "        usa = pd.concat([usa, pd.read_csv('../Accidents/usagers_' + str(i) + '.csv', usecols=usa_cols)], axis=0)\n",
    "        veh = pd.concat([veh, pd.read_csv('../Accidents/vehicules_' + str(i) + '.csv', usecols=veh_cols)], axis=0)\n",
    "        try:\n",
    "            car = pd.concat([car, pd.read_csv('../Accidents/caracteristiques_' + str(i) + '.csv',\n",
    "                                              encoding='latin-1', usecols=car_cols)], axis=0)\n",
    "        except:\n",
    "            car = pd.concat(\n",
    "                [car, pd.read_csv('../Accidents/caracteristiques_' + str(i) + '.csv', usecols=car_cols,\n",
    "                                  encoding='latin-1', sep='\\t')], axis=0)\n",
    "            \n",
    "    return veh, usa, car, lie\n",
    "\n",
    "veh, usa, car, lie = load_dataset()\n",
    "\n",
    "car.head()"
   ]
  },
  {
   "cell_type": "markdown",
   "metadata": {},
   "source": [
    "#### Correspondance data\n",
    "\n",
    "With this table, we have a correspondance between communal code in our accidents dataset, and the postal code, which is more convenient to identify a city."
   ]
  },
  {
   "cell_type": "code",
   "execution_count": 51,
   "metadata": {
    "ExecuteTime": {
     "end_time": "2019-06-21T12:15:43.809852Z",
     "start_time": "2019-06-21T12:15:43.551528Z"
    }
   },
   "outputs": [
    {
     "data": {
      "text/html": [
       "<div>\n",
       "<style scoped>\n",
       "    .dataframe tbody tr th:only-of-type {\n",
       "        vertical-align: middle;\n",
       "    }\n",
       "\n",
       "    .dataframe tbody tr th {\n",
       "        vertical-align: top;\n",
       "    }\n",
       "\n",
       "    .dataframe thead th {\n",
       "        text-align: right;\n",
       "    }\n",
       "</style>\n",
       "<table border=\"1\" class=\"dataframe\">\n",
       "  <thead>\n",
       "    <tr style=\"text-align: right;\">\n",
       "      <th></th>\n",
       "      <th>Geo Point</th>\n",
       "      <th>CODE_COM</th>\n",
       "      <th>INSEE_COM</th>\n",
       "      <th>NOM_COM</th>\n",
       "      <th>SUPERFICIE</th>\n",
       "      <th>POPULATION</th>\n",
       "      <th>CODE_DEPT</th>\n",
       "      <th>NOM_DEPT</th>\n",
       "      <th>CODE_REG</th>\n",
       "      <th>NOM_REG</th>\n",
       "      <th>Libelle_acheminement</th>\n",
       "      <th>Nom_commune</th>\n",
       "    </tr>\n",
       "    <tr>\n",
       "      <th>Code_postal</th>\n",
       "      <th></th>\n",
       "      <th></th>\n",
       "      <th></th>\n",
       "      <th></th>\n",
       "      <th></th>\n",
       "      <th></th>\n",
       "      <th></th>\n",
       "      <th></th>\n",
       "      <th></th>\n",
       "      <th></th>\n",
       "      <th></th>\n",
       "      <th></th>\n",
       "    </tr>\n",
       "  </thead>\n",
       "  <tbody>\n",
       "    <tr>\n",
       "      <th>95450.0</th>\n",
       "      <td>49.0848358031,1.9748748362</td>\n",
       "      <td>2</td>\n",
       "      <td>95002</td>\n",
       "      <td>ABLEIGES</td>\n",
       "      <td>792.0</td>\n",
       "      <td>933</td>\n",
       "      <td>95</td>\n",
       "      <td>VAL-D'OISE</td>\n",
       "      <td>11</td>\n",
       "      <td>ILE-DE-FRANCE</td>\n",
       "      <td>ABLEIGES</td>\n",
       "      <td>ABLEIGES</td>\n",
       "    </tr>\n",
       "    <tr>\n",
       "      <th>76280.0</th>\n",
       "      <td>49.6097472297,0.241445095242</td>\n",
       "      <td>716</td>\n",
       "      <td>76716</td>\n",
       "      <td>TURRETOT</td>\n",
       "      <td>612.0</td>\n",
       "      <td>1511</td>\n",
       "      <td>76</td>\n",
       "      <td>SEINE-MARITIME</td>\n",
       "      <td>28</td>\n",
       "      <td>NORMANDIE</td>\n",
       "      <td>TURRETOT</td>\n",
       "      <td>TURRETOT</td>\n",
       "    </tr>\n",
       "    <tr>\n",
       "      <th>76690.0</th>\n",
       "      <td>49.6093542995,1.07016467145</td>\n",
       "      <td>105</td>\n",
       "      <td>76105</td>\n",
       "      <td>LE BOCASSE</td>\n",
       "      <td>860.0</td>\n",
       "      <td>707</td>\n",
       "      <td>76</td>\n",
       "      <td>SEINE-MARITIME</td>\n",
       "      <td>28</td>\n",
       "      <td>NORMANDIE</td>\n",
       "      <td>LE BOCASSE</td>\n",
       "      <td>LE BOCASSE</td>\n",
       "    </tr>\n",
       "    <tr>\n",
       "      <th>10290.0</th>\n",
       "      <td>48.3605004241,3.59036233813</td>\n",
       "      <td>54</td>\n",
       "      <td>10054</td>\n",
       "      <td>BOURDENAY</td>\n",
       "      <td>1856.0</td>\n",
       "      <td>128</td>\n",
       "      <td>10</td>\n",
       "      <td>AUBE</td>\n",
       "      <td>44</td>\n",
       "      <td>ALSACE-CHAMPAGNE-ARDENNE-LORRAINE</td>\n",
       "      <td>BOURDENAY</td>\n",
       "      <td>BOURDENAY</td>\n",
       "    </tr>\n",
       "    <tr>\n",
       "      <th>51220.0</th>\n",
       "      <td>49.345648783,3.97511257054</td>\n",
       "      <td>329</td>\n",
       "      <td>51329</td>\n",
       "      <td>LOIVRE</td>\n",
       "      <td>1024.0</td>\n",
       "      <td>1197</td>\n",
       "      <td>51</td>\n",
       "      <td>MARNE</td>\n",
       "      <td>44</td>\n",
       "      <td>ALSACE-CHAMPAGNE-ARDENNE-LORRAINE</td>\n",
       "      <td>LOIVRE</td>\n",
       "      <td>LOIVRE</td>\n",
       "    </tr>\n",
       "  </tbody>\n",
       "</table>\n",
       "</div>"
      ],
      "text/plain": [
       "                                Geo Point  CODE_COM INSEE_COM     NOM_COM  \\\n",
       "Code_postal                                                                 \n",
       "95450.0        49.0848358031,1.9748748362         2     95002    ABLEIGES   \n",
       "76280.0      49.6097472297,0.241445095242       716     76716    TURRETOT   \n",
       "76690.0       49.6093542995,1.07016467145       105     76105  LE BOCASSE   \n",
       "10290.0       48.3605004241,3.59036233813        54     10054   BOURDENAY   \n",
       "51220.0        49.345648783,3.97511257054       329     51329      LOIVRE   \n",
       "\n",
       "             SUPERFICIE  POPULATION CODE_DEPT        NOM_DEPT  CODE_REG  \\\n",
       "Code_postal                                                               \n",
       "95450.0           792.0         933        95      VAL-D'OISE        11   \n",
       "76280.0           612.0        1511        76  SEINE-MARITIME        28   \n",
       "76690.0           860.0         707        76  SEINE-MARITIME        28   \n",
       "10290.0          1856.0         128        10            AUBE        44   \n",
       "51220.0          1024.0        1197        51           MARNE        44   \n",
       "\n",
       "                                       NOM_REG Libelle_acheminement  \\\n",
       "Code_postal                                                           \n",
       "95450.0                          ILE-DE-FRANCE             ABLEIGES   \n",
       "76280.0                              NORMANDIE             TURRETOT   \n",
       "76690.0                              NORMANDIE           LE BOCASSE   \n",
       "10290.0      ALSACE-CHAMPAGNE-ARDENNE-LORRAINE            BOURDENAY   \n",
       "51220.0      ALSACE-CHAMPAGNE-ARDENNE-LORRAINE               LOIVRE   \n",
       "\n",
       "            Nom_commune  \n",
       "Code_postal              \n",
       "95450.0        ABLEIGES  \n",
       "76280.0        TURRETOT  \n",
       "76690.0      LE BOCASSE  \n",
       "10290.0       BOURDENAY  \n",
       "51220.0          LOIVRE  "
      ]
     },
     "execution_count": 51,
     "metadata": {},
     "output_type": "execute_result"
    }
   ],
   "source": [
    "postal_1 = pd.read_csv('../Accidents/postal_part1.csv')\n",
    "postal_2 = pd.read_csv('../Accidents/postal_part2.csv')\n",
    "\n",
    "com_postal_pivot = pd.concat([postal_1, postal_2], ignore_index=True).set_index('Code_postal')\n",
    "com_postal_pivot.head(5)"
   ]
  },
  {
   "cell_type": "markdown",
   "metadata": {},
   "source": [
    "## Filtering on postal code"
   ]
  },
  {
   "cell_type": "code",
   "execution_count": 52,
   "metadata": {
    "ExecuteTime": {
     "end_time": "2019-06-21T12:15:43.825229Z",
     "start_time": "2019-06-21T12:15:43.812981Z"
    },
    "scrolled": false
   },
   "outputs": [
    {
     "data": {
      "text/plain": [
       "Geo Point               48.840040811,2.29268840406\n",
       "CODE_COM                                       115\n",
       "INSEE_COM                                    75115\n",
       "NOM_COM                   PARIS-15E-ARRONDISSEMENT\n",
       "SUPERFICIE                                     846\n",
       "POPULATION                                  238190\n",
       "CODE_DEPT                                       75\n",
       "NOM_DEPT                                     PARIS\n",
       "CODE_REG                                        11\n",
       "NOM_REG                              ILE-DE-FRANCE\n",
       "Libelle_acheminement                         PARIS\n",
       "Nom_commune                               PARIS 15\n",
       "Name: 75015.0, dtype: object"
      ]
     },
     "execution_count": 52,
     "metadata": {},
     "output_type": "execute_result"
    }
   ],
   "source": [
    "def postal_code_selection(code = None):\n",
    "    \n",
    "    # Handle given postal code (optional)\n",
    "    if isinstance(code, str): \n",
    "        postal_code_input = code\n",
    "    else: \n",
    "        postal_code_input = input(\"Select a postal code : \")\n",
    "        \n",
    "    try:\n",
    "        result = com_postal_pivot.loc[int(postal_code_input) , : ]\n",
    "    except:\n",
    "        print('Postal code not found in database')\n",
    "\n",
    "    if isinstance(result, pd.Series):\n",
    "        #print(\"Single line result\")\n",
    "        return result\n",
    "    elif isinstance(result, pd.DataFrame):\n",
    "        #print(\"Multi line result\") Get first row\n",
    "        return result.iloc[0]\n",
    "    else:\n",
    "        print(result.shape)\n",
    "\n",
    "postal_code_selection('75015')"
   ]
  },
  {
   "cell_type": "markdown",
   "metadata": {},
   "source": [
    "## Map drawing"
   ]
  },
  {
   "cell_type": "code",
   "execution_count": 53,
   "metadata": {
    "ExecuteTime": {
     "end_time": "2019-06-21T12:15:50.645334Z",
     "start_time": "2019-06-21T12:15:43.828707Z"
    },
    "scrolled": false
   },
   "outputs": [],
   "source": [
    "def export_map(\n",
    "    scale='Country',\n",
    "    post_code='75013', \n",
    "    department='75',\n",
    "    veh_type='all', \n",
    "    weather='all', \n",
    "    luminosity='all', \n",
    "    gravity='all',\n",
    "    usa_sexe='all',\n",
    "    export_name='plot_map.html',\n",
    "    begin='10', end='18'):\n",
    "\n",
    "    # Cross data - Filter on Dpt & Com\n",
    "    if scale == 'City':\n",
    "        result = postal_code_selection(post_code)\n",
    "        display_scale = 14\n",
    "        car_tmp = car[(car['dep'] == int(result['CODE_DEPT']+'0')) & (car['com'] == result['CODE_COM'])]\n",
    "        centered_location = [float(result[\"Geo Point\"].split(\",\")[0]), float(result[\"Geo Point\"].split(\",\")[1])]\n",
    "    elif scale == 'Department':\n",
    "        car_tmp = car[(car['dep'] == int(str(department) + '0'))]\n",
    "        if department == '75':\n",
    "            display_scale = 12\n",
    "            centered_location = [48.866997, 2.339459]\n",
    "        else:\n",
    "            display_scale = 9\n",
    "            result = postal_code_selection(department+'000')\n",
    "            centered_location = [float(result[\"Geo Point\"].split(\",\")[0]), float(result[\"Geo Point\"].split(\",\")[1])]\n",
    "    elif scale == 'Country':\n",
    "        car_tmp = car\n",
    "        display_scale = 6\n",
    "        centered_location = [47.12, 2.5]\n",
    "    \n",
    "    zone_df = pd.merge(veh, car_tmp, on='Num_Acc')\n",
    "    zone_df = pd.merge(zone_df, lie, on='Num_Acc')\n",
    "    zone_df = zone_df[zone_df.gps == 'M']\n",
    "    \n",
    "    # Filter on road type\n",
    "    #if scale == 'Country':\n",
    "        #zone_df = zone_df[zone_df.catr == 1.0]\n",
    "\n",
    "    # Filter empty coordinates\n",
    "    zone_df = zone_df[(zone_df.long != 0) & (zone_df.lat != 0)]\n",
    "    zone_df = zone_df[(zone_df.long != 0.0) & (zone_df.lat != 0.0)]\n",
    "    zone_df = zone_df.dropna(subset=['lat', 'long'])\n",
    "    \n",
    "    # Filter on vehicle type\n",
    "    if (veh_type == 'Cars'):\n",
    "        zone_df = zone_df[(zone_df.catv == 7)]\n",
    "    elif veh_type == 'Motorcycles':\n",
    "        zone_df = zone_df[(zone_df.catv == 2) | (zone_df.catv == 30) | (zone_df.catv == 31) | \n",
    "                          (zone_df.catv == 32) | (zone_df.catv == 33) | (zone_df.catv == 34)]\n",
    "    elif veh_type == 'Bikes':\n",
    "        zone_df = zone_df[(zone_df.catv == 1)]\n",
    "    elif veh_type == 'Public transports':\n",
    "        zone_df = zone_df[(zone_df.catv == 37) | (zone_df.catv == 38) | (zone_df.catv == 39) | \n",
    "                          (zone_df.catv == 40)]\n",
    "        \n",
    "    # Luminosity conditions\n",
    "    if (luminosity == 'Day'):                   zone_df = zone_df[(zone_df.lum == 1)]\n",
    "    elif luminosity == 'Dusk/Dawn':             zone_df = zone_df[(zone_df.lum == 2)]\n",
    "    elif luminosity == 'Night (with lighting)': zone_df = zone_df[(zone_df.lum == 5)]\n",
    "    elif luminosity == 'Night (no lighting)':   zone_df = zone_df[(zone_df.lum == 3) | (zone_df.lum == 4)]\n",
    "    \n",
    "    # Atmospheric conditions\n",
    "    if weather == 'Normal/Sunny':   zone_df = zone_df[(zone_df.atm == 1) | (zone_df.atm == 7)]\n",
    "    elif weather == 'Rain':         zone_df = zone_df[(zone_df.atm == 2) | (zone_df.atm == 3)]\n",
    "    elif weather == 'Snow':         zone_df = zone_df[(zone_df.atm == 4)]\n",
    "    elif weather == 'Fog':          zone_df = zone_df[(zone_df.atm == 5)]\n",
    "        \n",
    "    # Filter on time interval\n",
    "    zone_df = zone_df[(zone_df.an >= int(begin)) & (zone_df.an <= int(end))]\n",
    "    zone_df = pd.merge(zone_df, usa, on='Num_Acc')\n",
    "    \n",
    "    # Coordinates conversion\n",
    "    zone_df['lat'] = zone_df['lat'].replace('-', 0).fillna(0).astype('float') / 100000\n",
    "    zone_df['long'] = zone_df['long'].replace('-', 0).fillna(0).astype('float') / 100000\n",
    "    zone_df = zone_df[zone_df.long != 0.0]\n",
    "    #print(zone_df.shape[0], ' rows with good gps cordinates.\\n')\n",
    "\n",
    "    return zone_df\n",
    "\n",
    "zone_df = export_map()"
   ]
  },
  {
   "cell_type": "code",
   "execution_count": 54,
   "metadata": {
    "ExecuteTime": {
     "end_time": "2019-06-21T12:15:52.310329Z",
     "start_time": "2019-06-21T12:15:50.648235Z"
    }
   },
   "outputs": [],
   "source": [
    "zone_df['dep'] = zone_df['dep'].astype(str)\n",
    "zone_df = zone_df[zone_df['lat'] > 40]\n",
    "zone_df['lat'] = zone_df['lat'] - np.mean(zone_df['lat'])"
   ]
  },
  {
   "cell_type": "code",
   "execution_count": 55,
   "metadata": {
    "ExecuteTime": {
     "end_time": "2019-06-21T12:15:52.323017Z",
     "start_time": "2019-06-21T12:15:52.314152Z"
    }
   },
   "outputs": [
    {
     "data": {
      "text/plain": [
       "Index(['Num_Acc', 'senc', 'catv', 'obs', 'obsm', 'choc', 'num_veh_x', 'an',\n",
       "       'mois', 'jour', 'hrmn', 'lum', 'agg', 'atm', 'col', 'com', 'gps', 'lat',\n",
       "       'long', 'dep', 'catr', 'circ', 'nbv', 'vosp', 'prof', 'plan', 'lartpc',\n",
       "       'larrout', 'surf', 'infra', 'situ', 'place', 'catu', 'grav', 'sexe',\n",
       "       'trajet', 'secu', 'locp', 'an_nais', 'num_veh_y'],\n",
       "      dtype='object')"
      ]
     },
     "execution_count": 55,
     "metadata": {},
     "output_type": "execute_result"
    }
   ],
   "source": [
    "zone_df.columns"
   ]
  },
  {
   "cell_type": "code",
   "execution_count": 56,
   "metadata": {
    "ExecuteTime": {
     "end_time": "2019-06-21T12:15:54.243003Z",
     "start_time": "2019-06-21T12:15:52.327729Z"
    }
   },
   "outputs": [],
   "source": [
    "def genre_proc(genre):\n",
    "    if str(genre) == '1': return 'male'\n",
    "    else: return 'female'\n",
    "    \n",
    "    \n",
    "def vehicle_proc(vehicle):\n",
    "    if str(vehicle) in ['3', '7', '8', '9']: return 'Voiture'\n",
    "    elif str(vehicle) in ['33', '34', '2', '30', '31', '32']: return 'Moto'\n",
    "    elif str(vehicle) in ['1']: return 'Velo'\n",
    "    elif str(vehicle) in ['10', '13', '14', '20', '21', '16', '17']: return 'Camion'\n",
    "    \n",
    "    \n",
    "def atm_proc(weather):\n",
    "    if str(weather) in ['2.0', '3.0', '5.0']:        return 'Rain'\n",
    "    elif str(weather) in ['4.0', '6.0']:     return 'Snow, Storm'\n",
    "    elif str(weather) in ['1.0', '8.0', '7.0']: return 'Normal'\n",
    "    \n",
    "zone_df['catv_str'] = zone_df['catv'].apply(lambda x: vehicle_proc(x))\n",
    "zone_df['sexe_str'] = zone_df['sexe'].apply(lambda x: genre_proc(x))\n",
    "zone_df['atm_str'] = zone_df['atm'].apply(lambda x: atm_proc(x))"
   ]
  },
  {
   "cell_type": "code",
   "execution_count": 57,
   "metadata": {
    "ExecuteTime": {
     "end_time": "2019-06-21T12:15:55.173135Z",
     "start_time": "2019-06-21T12:15:54.245541Z"
    }
   },
   "outputs": [],
   "source": [
    "def treat_year(an) :\n",
    "    return int(str(20) + str(an))\n",
    "\n",
    "zone_df['annee'] = zone_df['an'].apply(lambda x: treat_year(x))\n",
    "zone_df['age'] = zone_df['annee'] - zone_df['an_nais']"
   ]
  },
  {
   "cell_type": "code",
   "execution_count": 58,
   "metadata": {
    "ExecuteTime": {
     "end_time": "2019-06-21T12:15:56.952542Z",
     "start_time": "2019-06-21T12:15:55.175825Z"
    }
   },
   "outputs": [],
   "source": [
    "zone_df = zone_df.dropna()"
   ]
  },
  {
   "cell_type": "code",
   "execution_count": 59,
   "metadata": {
    "ExecuteTime": {
     "end_time": "2019-06-21T12:15:57.219693Z",
     "start_time": "2019-06-21T12:15:56.955551Z"
    }
   },
   "outputs": [],
   "source": [
    "zone_df = zone_df[zone_df['larrout'] < 200]"
   ]
  },
  {
   "cell_type": "code",
   "execution_count": 60,
   "metadata": {
    "ExecuteTime": {
     "end_time": "2019-06-21T12:15:57.416263Z",
     "start_time": "2019-06-21T12:15:57.223248Z"
    }
   },
   "outputs": [],
   "source": [
    "zone_df = zone_df[zone_df['larrout'] > 0]"
   ]
  },
  {
   "cell_type": "code",
   "execution_count": 104,
   "metadata": {
    "ExecuteTime": {
     "end_time": "2019-06-21T14:08:47.797341Z",
     "start_time": "2019-06-21T14:08:47.527104Z"
    }
   },
   "outputs": [],
   "source": [
    "def modif_grav(grav) :\n",
    "    if grav == 1 :\n",
    "        return 1\n",
    "    elif grav == 3 :\n",
    "        return 3\n",
    "    elif grav == 4 :\n",
    "        return 2\n",
    "    else :\n",
    "        return 4\n",
    "zone_df['grav'] = zone_df['grav'].apply(lambda x : modif_grav(x))"
   ]
  },
  {
   "cell_type": "code",
   "execution_count": 105,
   "metadata": {
    "ExecuteTime": {
     "end_time": "2019-06-21T14:09:06.998229Z",
     "start_time": "2019-06-21T14:09:06.810067Z"
    }
   },
   "outputs": [],
   "source": [
    "def modif_grav(grav) :\n",
    "    if grav == 1 :\n",
    "        return \"Indemne\"\n",
    "    elif grav == 2 :\n",
    "        return \"Blessé léger\"\n",
    "    elif grav == 3 :\n",
    "        return  \"Blessé hosp.\"\n",
    "    else :\n",
    "        return \"Mort\"\n",
    "zone_df['grav_str'] = zone_df['grav'].apply(lambda x : modif_grav(x))"
   ]
  },
  {
   "cell_type": "code",
   "execution_count": 65,
   "metadata": {
    "ExecuteTime": {
     "end_time": "2019-06-21T12:21:44.791912Z",
     "start_time": "2019-06-21T12:21:44.574446Z"
    }
   },
   "outputs": [],
   "source": [
    "zone_df = zone_df[zone_df['lartpc'] < 40]"
   ]
  },
  {
   "cell_type": "code",
   "execution_count": 85,
   "metadata": {
    "ExecuteTime": {
     "end_time": "2019-06-21T12:44:48.388651Z",
     "start_time": "2019-06-21T12:44:30.597007Z"
    }
   },
   "outputs": [],
   "source": [
    "zone_df.to_csv('zone_df.csv')"
   ]
  },
  {
   "cell_type": "markdown",
   "metadata": {},
   "source": [
    "## Interactive Map"
   ]
  },
  {
   "cell_type": "code",
   "execution_count": 120,
   "metadata": {
    "ExecuteTime": {
     "end_time": "2019-06-21T14:35:52.993283Z",
     "start_time": "2019-06-21T14:35:52.894656Z"
    }
   },
   "outputs": [],
   "source": [
    "import altair as alt\n",
    "\n",
    "def plot_map(df) :\n",
    "\n",
    "    #df = df[df['catr']==4]\n",
    "    \n",
    "    if len(df) >= 5000 :\n",
    "        df = df.sample(30000)\n",
    "\n",
    "    scales = alt.selection_interval(bind='scales')\n",
    "\n",
    "    selection = alt.selection_multi(fields=['grav'])\n",
    "\n",
    "    color = alt.Color('grav:Q', scale=alt.Scale(scheme='redblue', domain=[5,0]), legend=None)\n",
    "\n",
    "    brush = alt.selection(type='interval')\n",
    "\n",
    "    ### MAP\n",
    "    map = alt.Chart(df).mark_circle(size=10).encode(\n",
    "        x='long',\n",
    "        y=alt.Y('lat'),\n",
    "        color=color,\n",
    "        tooltip=[\n",
    "            alt.Tooltip('hrmn:Q', title=\"Heure\"),\n",
    "            alt.Tooltip('catv_str:N', title=\"Veh. Cat.\"),\n",
    "            alt.Tooltip('grav_str:N', title=\"Gravity\"),\n",
    "            alt.Tooltip('sexe_str:N', title=\"Casualty genre\")\n",
    "        ]\n",
    "    ).properties(\n",
    "        width=275,\n",
    "        height=275\n",
    "    ).add_selection(\n",
    "        brush\n",
    "    )\n",
    "    \n",
    "    ## LEFT - RIGHT\n",
    "    bars_0 = alt.Chart(df).mark_bar().encode(\n",
    "        alt.X(\"grav_str:N\", axis=alt.Axis(title='Gravité')),\n",
    "        y='count()',\n",
    "        color=color,\n",
    "        tooltip=[\n",
    "            alt.Tooltip('grav_str:N', title=\"Gravité\")]\n",
    "    ).transform_filter(\n",
    "        brush\n",
    "    ).properties(\n",
    "        width=275,\n",
    "        height=150\n",
    "    )\n",
    "\n",
    "    bars_1 = alt.Chart(df).mark_bar().encode(\n",
    "        alt.X(\"hrmn:Q\", axis=alt.Axis(title='Heure')),\n",
    "        y='count()',\n",
    "        color=color,\n",
    "        tooltip=[\n",
    "            alt.Tooltip('hrmn:Q', title=\"Heure\"),\n",
    "            alt.Tooltip('grav_str:N', title=\"Gravité\")]\n",
    "    ).transform_filter(\n",
    "        brush\n",
    "    ).properties(\n",
    "        width=275,\n",
    "        height=150\n",
    "    )\n",
    "\n",
    "    \n",
    "    bars_2 = alt.Chart(df).mark_bar().encode(\n",
    "        alt.X(\"sexe_str:N\", axis=alt.Axis(title='Sexe')),\n",
    "        y='count()',\n",
    "        color=color,\n",
    "        tooltip=[\n",
    "            alt.Tooltip('sexe_str:N', title=\"Sexe\"),\n",
    "            alt.Tooltip('grav_str:N', title=\"Gravité\")]\n",
    "    ).transform_filter(\n",
    "        brush\n",
    "    ).properties(\n",
    "        width=275,\n",
    "        height=150\n",
    "    )\n",
    "\n",
    "    \n",
    "    bars_3 = alt.Chart(df).mark_bar().encode(\n",
    "        alt.X(\"catv_str:N\", axis=alt.Axis(title='Cat. Véhicule')),\n",
    "        y='count()',\n",
    "        color=color,\n",
    "        tooltip=[\n",
    "            alt.Tooltip('catv_str:N', title=\"Cat. Véhicule\"),\n",
    "            alt.Tooltip('grav_str:N', title=\"Gravité\")]\n",
    "    ).transform_filter(\n",
    "        brush\n",
    "    ).properties(\n",
    "        width=275,\n",
    "        height=150\n",
    "    )\n",
    "\n",
    "    bars_4 = alt.Chart(df).mark_bar().encode(\n",
    "        alt.X(\"lartpc:Q\", bin=alt.Bin(maxbins=50), axis=alt.Axis(title='Largeur TPC')),\n",
    "        y='count()',\n",
    "        color=color,\n",
    "        tooltip=[\n",
    "            alt.Tooltip('lartpc:Q', title=\"Largeur TPC\"),\n",
    "            alt.Tooltip('grav_str:N', title=\"Gravité\")]\n",
    "    ).transform_filter(\n",
    "        brush\n",
    "    ).properties(\n",
    "        width=275,\n",
    "        height=150\n",
    "    )\n",
    "\n",
    "    \n",
    "    bars_5 = alt.Chart(df).mark_bar().encode(\n",
    "        alt.X(\"atm_str:N\", axis=alt.Axis(title='Météo')),\n",
    "        y='count()',\n",
    "        color=color,\n",
    "        tooltip=[\n",
    "            alt.Tooltip('atm_str:N', title=\"Météo\"),\n",
    "            alt.Tooltip('grav_str:N', title=\"Gravité\")]\n",
    "    ).transform_filter(\n",
    "        brush\n",
    "    ).properties(\n",
    "        width=275,\n",
    "        height=150\n",
    "    )\n",
    "    \n",
    "    \n",
    "    bars_left = alt.Chart(df).mark_bar().encode(\n",
    "        alt.X(\"annee:Q\", axis=alt.Axis(title='Année')),\n",
    "        y='count()',\n",
    "        color=color,\n",
    "        tooltip=[\n",
    "            alt.Tooltip('annee:Q', title=\"Année\"),\n",
    "            alt.Tooltip('grav_str:N', title=\"Gravité\")]\n",
    "    ).transform_filter(\n",
    "        brush\n",
    "    ).properties(\n",
    "        width=275,\n",
    "        height=275\n",
    "    )\n",
    "\n",
    "\n",
    "    bars_right = alt.Chart(df).mark_bar().encode(\n",
    "        alt.X(\"age:Q\", bin=alt.Bin(maxbins=50), axis=alt.Axis(title='Age')),\n",
    "        y='count()',\n",
    "        color=color,\n",
    "        tooltip=[\n",
    "            alt.Tooltip('age:Q', title=\"Age\"),\n",
    "            alt.Tooltip('grav_str:N', title=\"Gravité\")]\n",
    "    ).transform_filter(\n",
    "        brush\n",
    "    ).properties(\n",
    "        width=275,\n",
    "        height=275\n",
    "    )\n",
    "\n",
    "    chart = ( bars_0 | bars_1 | bars_2 ) & (bars_left | map | bars_right) & ( bars_3 | bars_4 | bars_5 )\n",
    "\n",
    "    return chart.save('all_6.html')\n"
   ]
  },
  {
   "cell_type": "code",
   "execution_count": 121,
   "metadata": {
    "ExecuteTime": {
     "end_time": "2019-06-21T14:36:18.217243Z",
     "start_time": "2019-06-21T14:35:54.103944Z"
    }
   },
   "outputs": [],
   "source": [
    "plot_map(zone_df)"
   ]
  }
 ],
 "metadata": {
  "kernelspec": {
   "display_name": "Python 3",
   "language": "python",
   "name": "python3"
  },
  "language_info": {
   "codemirror_mode": {
    "name": "ipython",
    "version": 3
   },
   "file_extension": ".py",
   "mimetype": "text/x-python",
   "name": "python",
   "nbconvert_exporter": "python",
   "pygments_lexer": "ipython3",
   "version": "3.6.5"
  },
  "latex_envs": {
   "LaTeX_envs_menu_present": true,
   "autoclose": false,
   "autocomplete": true,
   "bibliofile": "biblio.bib",
   "cite_by": "apalike",
   "current_citInitial": 1,
   "eqLabelWithNumbers": true,
   "eqNumInitial": 1,
   "hotkeys": {
    "equation": "Ctrl-E",
    "itemize": "Ctrl-I"
   },
   "labels_anchors": false,
   "latex_user_defs": false,
   "report_style_numbering": false,
   "user_envs_cfg": false
  },
  "toc": {
   "base_numbering": 1,
   "nav_menu": {},
   "number_sections": false,
   "sideBar": true,
   "skip_h1_title": false,
   "title_cell": "Table of Contents",
   "title_sidebar": "Contents",
   "toc_cell": false,
   "toc_position": {},
   "toc_section_display": true,
   "toc_window_display": false
  }
 },
 "nbformat": 4,
 "nbformat_minor": 2
}
